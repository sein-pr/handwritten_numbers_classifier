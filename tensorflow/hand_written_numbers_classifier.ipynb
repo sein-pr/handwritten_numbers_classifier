{
 "cells": [
  {
   "cell_type": "markdown",
   "id": "8a4f3ec1-7423-440a-ace5-2dad00cb2800",
   "metadata": {},
   "source": [
    "# Handwritten Numbers Classifier"
   ]
  },
  {
   "cell_type": "markdown",
   "id": "411ec519-f2ed-4dba-8386-29829ddc41bc",
   "metadata": {},
   "source": [
    "## I'll be traing NN for Prediction using Regression"
   ]
  },
  {
   "cell_type": "markdown",
   "id": "7e60e5a6-d71a-43df-ae47-5d89af25424b",
   "metadata": {},
   "source": [
    "## What'll learning creating this project:\n",
    " - What is an MLP\n",
    " - Exploring a common open source handwritten dataset the __MNIST dataset__\n",
    " - Building my intuition and preparation for model architecture\n",
    " - Coding the model and defining the hyperparameters\n",
    " - Building the training loop\n",
    " - Testing the model"
   ]
  },
  {
   "cell_type": "markdown",
   "id": "e6b3983b-0cd4-4a00-901d-f9e847ecf0ad",
   "metadata": {},
   "source": [
    "# Building a regression model for prediction using MLP deep NN\n",
    "## i'll be using the __MNIST dataset__"
   ]
  },
  {
   "cell_type": "markdown",
   "id": "0f094a45-b2c1-42da-8115-9f7a59e25664",
   "metadata": {},
   "source": [
    "I will be implementing a a NN with a simple architecture of two layers, using __Tensorflow__ that will perform regression on the dataset"
   ]
  },
  {
   "cell_type": "markdown",
   "id": "ff17e50b-a923-4013-a199-68ed6abd6c99",
   "metadata": {},
   "source": [
    "## Lets download the dataset"
   ]
  },
  {
   "cell_type": "code",
   "execution_count": 7,
   "id": "cd8e7ca2-b564-40e1-8332-03c396345b33",
   "metadata": {},
   "outputs": [],
   "source": [
    "import tensorflow_datasets as tfds"
   ]
  },
  {
   "cell_type": "code",
   "execution_count": 8,
   "id": "0906f416-1e4a-443c-8f8c-c537e9b9c244",
   "metadata": {},
   "outputs": [
    {
     "name": "stdout",
     "output_type": "stream",
     "text": [
      "\u001b[1mDownloading and preparing dataset Unknown size (download: Unknown size, generated: Unknown size, total: Unknown size) to /tmp/data/mnist\\3.0.1...\u001b[0m\n"
     ]
    },
    {
     "data": {
      "application/vnd.jupyter.widget-view+json": {
       "model_id": "8c6333bb36ba4623821ced724e84d51f",
       "version_major": 2,
       "version_minor": 0
      },
      "text/plain": [
       "Dl Completed...: 0 url [00:00, ? url/s]"
      ]
     },
     "metadata": {},
     "output_type": "display_data"
    },
    {
     "data": {
      "application/vnd.jupyter.widget-view+json": {
       "model_id": "4ad64ee8fd604a77859efb054f6539c2",
       "version_major": 2,
       "version_minor": 0
      },
      "text/plain": [
       "Dl Size...: 0 MiB [00:00, ? MiB/s]"
      ]
     },
     "metadata": {},
     "output_type": "display_data"
    },
    {
     "data": {
      "application/vnd.jupyter.widget-view+json": {
       "model_id": "ec93cd2d22634375a1ef2a128001d922",
       "version_major": 2,
       "version_minor": 0
      },
      "text/plain": [
       "Extraction completed...: 0 file [00:00, ? file/s]"
      ]
     },
     "metadata": {},
     "output_type": "display_data"
    },
    {
     "data": {
      "application/vnd.jupyter.widget-view+json": {
       "model_id": "",
       "version_major": 2,
       "version_minor": 0
      },
      "text/plain": [
       "Generating splits...:   0%|          | 0/2 [00:00<?, ? splits/s]"
      ]
     },
     "metadata": {},
     "output_type": "display_data"
    },
    {
     "data": {
      "application/vnd.jupyter.widget-view+json": {
       "model_id": "",
       "version_major": 2,
       "version_minor": 0
      },
      "text/plain": [
       "Generating train examples...: 0 examples [00:00, ? examples/s]"
      ]
     },
     "metadata": {},
     "output_type": "display_data"
    },
    {
     "data": {
      "application/vnd.jupyter.widget-view+json": {
       "model_id": "",
       "version_major": 2,
       "version_minor": 0
      },
      "text/plain": [
       "Shuffling \\tmp\\data\\mnist\\incomplete.URIIJD_3.0.1\\mnist-train.tfrecord*...:   0%|          | 0/60000 [00:00<?,…"
      ]
     },
     "metadata": {},
     "output_type": "display_data"
    },
    {
     "data": {
      "application/vnd.jupyter.widget-view+json": {
       "model_id": "",
       "version_major": 2,
       "version_minor": 0
      },
      "text/plain": [
       "Generating test examples...: 0 examples [00:00, ? examples/s]"
      ]
     },
     "metadata": {},
     "output_type": "display_data"
    },
    {
     "data": {
      "application/vnd.jupyter.widget-view+json": {
       "model_id": "",
       "version_major": 2,
       "version_minor": 0
      },
      "text/plain": [
       "Shuffling \\tmp\\data\\mnist\\incomplete.URIIJD_3.0.1\\mnist-test.tfrecord*...:   0%|          | 0/10000 [00:00<?, …"
      ]
     },
     "metadata": {},
     "output_type": "display_data"
    },
    {
     "name": "stdout",
     "output_type": "stream",
     "text": [
      "\u001b[1mDataset mnist downloaded and prepared to /tmp/data/mnist\\3.0.1. Subsequent calls will reuse this data.\u001b[0m\n"
     ]
    }
   ],
   "source": [
    "# Specify the directory for downloading the dataset\n",
    "data_dir = '/tmp/data/'\n",
    "# Load MNIST dataset\n",
    "mnist = tfds.load(name='mnist', split='train', as_supervised=True, data_dir=data_dir)"
   ]
  },
  {
   "cell_type": "markdown",
   "id": "dbddbfa7-fd2e-4193-8713-f65acdc4f728",
   "metadata": {},
   "source": [
    "# Iterate over the dataset to check"
   ]
  },
  {
   "cell_type": "code",
   "execution_count": 9,
   "id": "5e5c90c2-54fd-45f6-84fa-23431312fab9",
   "metadata": {},
   "outputs": [
    {
     "name": "stdout",
     "output_type": "stream",
     "text": [
      "Image shape: (28, 28, 1)\n",
      "Label: 4\n"
     ]
    }
   ],
   "source": [
    "# Iterate over the dataset to check\n",
    "for image, label in mnist.take(1):\n",
    "    print(\"Image shape:\", image.shape)\n",
    "    print(\"Label:\", label.numpy())"
   ]
  },
  {
   "cell_type": "markdown",
   "id": "e02f0f23-a104-4341-a0d0-e2ca7fc80e0e",
   "metadata": {},
   "source": [
    "## Extracting one image and ploting it"
   ]
  },
  {
   "cell_type": "code",
   "execution_count": 13,
   "id": "cfa42680-f084-49e6-9185-84650d5962ea",
   "metadata": {},
   "outputs": [
    {
     "name": "stderr",
     "output_type": "stream",
     "text": [
      "WARNING:matplotlib.font_manager:Matplotlib is building the font cache; this may take a moment.\n"
     ]
    }
   ],
   "source": [
    "import matplotlib.pyplot as plt"
   ]
  },
  {
   "cell_type": "code",
   "execution_count": 15,
   "id": "7b1785d2-b608-4293-adf7-c0b710a8e8fb",
   "metadata": {},
   "outputs": [
    {
     "data": {
      "image/png": "[encoded data removed]",
      "text/plain": [
       "<Figure size 640x480 with 1 Axes>"
      ]
     },
     "metadata": {},
     "output_type": "display_data"
    }
   ],
   "source": [
    "# Get one sample from the dataset\n",
    "for image, label in mnist.take(1):\n",
    "    # Convert the tensor to a numpy array for visualization\n",
    "    sample_image = image.numpy().reshape((28, 28))\n",
    "    sample_label = label.numpy()\n",
    "\n",
    "    # Display the image\n",
    "    plt.imshow(sample_image, cmap='gray')\n",
    "    plt.title(f\"Label: {sample_label}\")\n",
    "    plt.axis('off')\n",
    "    plt.show()"
   ]
  },
  {
   "cell_type": "markdown",
   "id": "cf9c8d3f-399d-4d03-8c3f-e1bd40ad844c",
   "metadata": {},
   "source": [
    "# Intuition and Preparation"
   ]
  },
  {
   "cell_type": "markdown",
   "id": "a0d0436f-5ff2-4353-ae78-239385f765d9",
   "metadata": {},
   "source": [
    "## What I need to do is build a deep learning technology that accurately assigns class labels to an input image\n",
    "- I am using a deep neutal network, known as __MLP__, to do this\n",
    "- The core technology of this is the mathemeatics of regression"
   ]
  },
  {
   "cell_type": "markdown",
   "id": "9764127c-0d12-412c-95bb-343e56150ecf",
   "metadata": {},
   "source": [
    "# Defining Reegression\n",
    "- My first task is to define the model that will perform regression on the provided __MNIST__ dataset.\n",
    "- I will create a Tensorflow model with two hidden layers as part of a fully connected neural network, also know as __MLP__\n",
    "- The model will perfom the operations fiting the formula below, where ___y___ is the label, ___x___ is the image, ___W___ is the weight the model will learn, and ___b___ is the bias which will also be learned by the model\n",
    "\n",
    "  ## y = _nonlinearity(xW + b)_"
   ]
  },
  {
   "cell_type": "markdown",
   "id": "1fdc2550-1552-4538-8305-771f36da6e7b",
   "metadata": {},
   "source": [
    "Each iteration will try to generalize the values of weight and bias and reduce the error rate. While keeping in mind that the model is not overfitted"
   ]
  },
  {
   "cell_type": "markdown",
   "id": "70ee536f-1a23-4957-b0fd-1baaac3014aa",
   "metadata": {},
   "source": [
    "# Defining the project structure\n",
    "## It follows this pattern:\n",
    "- __hy_param.py__: Contains all the hyperparameters and other configurations\n",
    "- __model.py__: Contains the defination and architecture of the model\n",
    "- __train.py__: Contains code to train the model\n",
    "- __inference.py__: Contains the code to excute the trained model and make prediction\n",
    "- __/runs__: This folder will contains all the checkpoints that will get created during the training process"
   ]
  },
  {
   "cell_type": "markdown",
   "id": "a72cb213-fe37-45d5-a903-286fe4e2c231",
   "metadata": {},
   "source": [
    "# Defining the hyperparameters\n",
    "- hy_param.py"
   ]
  },
  {
   "cell_type": "code",
   "execution_count": null,
   "id": "b603d0d0-9f65-41b8-95bf-6c217cf43ddd",
   "metadata": {},
   "outputs": [],
   "source": [
    "#Parameters\n",
    "learning_rate = 0.01\n",
    "num_steps = 100\n",
    "batch_size = 128\n",
    "display_step = 1"
   ]
  }
 ],
 "metadata": {
  "kernelspec": {
   "display_name": "Python 3 (ipykernel)",
   "language": "python",
   "name": "python3"
  },
  "language_info": {
   "codemirror_mode": {
    "name": "ipython",
    "version": 3
   },
   "file_extension": ".py",
   "mimetype": "text/x-python",
   "name": "python",
   "nbconvert_exporter": "python",
   "pygments_lexer": "ipython3",
   "version": "3.12.4"
  }
 },
 "nbformat": 4,
 "nbformat_minor": 5
}
